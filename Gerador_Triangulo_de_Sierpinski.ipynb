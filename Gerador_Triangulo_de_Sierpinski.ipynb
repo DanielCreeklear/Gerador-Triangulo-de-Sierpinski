{
  "nbformat": 4,
  "nbformat_minor": 0,
  "metadata": {
    "colab": {
      "name": "Gerador_Triangulo_de_Sierpinski.ipynb",
      "provenance": [],
      "authorship_tag": "ABX9TyPYkHeHLB0W+HBPrXB7hltY",
      "include_colab_link": true
    },
    "kernelspec": {
      "name": "python3",
      "display_name": "Python 3"
    }
  },
  "cells": [
    {
      "cell_type": "markdown",
      "metadata": {
        "id": "view-in-github",
        "colab_type": "text"
      },
      "source": [
        "<a href=\"https://colab.research.google.com/github/DanielCreeklear/Gerador-Triangulo-de-Sierpinski/blob/main/Gerador_Triangulo_de_Sierpinski.ipynb\" target=\"_parent\"><img src=\"https://colab.research.google.com/assets/colab-badge.svg\" alt=\"Open In Colab\"/></a>"
      ]
    },
    {
      "cell_type": "code",
      "metadata": {
        "id": "yfYVYdPkqT8q"
      },
      "source": [
        "import matplotlib.pyplot as plt\r\n",
        "import numpy  as np\r\n",
        "import time"
      ],
      "execution_count": 12,
      "outputs": []
    },
    {
      "cell_type": "code",
      "metadata": {
        "id": "IazaCLGvqe3G"
      },
      "source": [
        "def gerar_Sierpinski(nivel, raio, fator_escala):\r\n",
        "  X, Y = [0], [0]\r\n",
        "\r\n",
        "  for i in range(nivel):\r\n",
        "      Xn, Yn = [], []\r\n",
        "      raio = fator_escala * raio\r\n",
        "      for k in range(len(X)):\r\n",
        "          for j in range(3):\r\n",
        "              Xn.append(X[k] + raio * np.cos(np.pi / 2 + j * 2 * np.pi / 3))\r\n",
        "              Yn.append(Y[k] + raio * np.sin(np.pi / 2 + j * 2 * np.pi / 3))\r\n",
        "      X = Xn[:]\r\n",
        "      Y = Yn[:]\r\n",
        "\r\n",
        "  plt.plot(X, Y, ',')\r\n",
        "  plt.grid()\r\n",
        "  plt.axis('equal')\r\n",
        "  plt.show()"
      ],
      "execution_count": 38,
      "outputs": []
    },
    {
      "cell_type": "code",
      "metadata": {
        "colab": {
          "base_uri": "https://localhost:8080/",
          "height": 282
        },
        "id": "ifBXCqOPqyhz",
        "outputId": "95761f61-650c-4a68-b4b2-4b1f8ade2cf9"
      },
      "source": [
        "start_time = time.time()\r\n",
        "gerar_Sierpinski(nivel=8, raio=1, fator_escala=0.5)\r\n",
        "print(\"--- %s seconds ---\" % (time.time() - start_time))"
      ],
      "execution_count": 49,
      "outputs": [
        {
          "output_type": "display_data",
          "data": {
            "image/png": "[encoded data removed]",
            "text/plain": [
              "<Figure size 432x288 with 1 Axes>"
            ]
          },
          "metadata": {
            "tags": [],
            "needs_background": "light"
          }
        },
        {
          "output_type": "stream",
          "text": [
            "--- 0.18632149696350098 seconds ---\n"
          ],
          "name": "stdout"
        }
      ]
    }
  ]
}